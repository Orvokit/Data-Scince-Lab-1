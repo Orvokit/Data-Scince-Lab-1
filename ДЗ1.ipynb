{
 "cells": [
  {
   "cell_type": "markdown",
   "metadata": {
    "id": "4-MSnrG0u4Az"
   },
   "source": [
    "# **Задача 1**\n",
    "Дана переменная, в которой хранится слово из латинских букв. Напишите код, который выводит на экран:\n",
    "\n",
    "·среднюю букву, если число букв в слове нечетное;\n",
    "\n",
    "·две средних буквы, если число букв четное.\n",
    "\n",
    "Примеры работы программы:\n",
    "\n",
    "    1.word = 'test’\n",
    "    Результат:\n",
    "    es\n",
    "\n",
    "    1.word = 'testing’\n",
    "    Результат:\n",
    "    t"
   ]
  },
  {
   "cell_type": "code",
   "execution_count": 1,
   "metadata": {
    "colab": {
     "base_uri": "https://localhost:8080/"
    },
    "id": "Pk-EWdbIvBKb",
    "outputId": "bdb7b0ed-f2a6-4445-aa92-7dc0b23d232d"
   },
   "outputs": [
    {
     "name": "stdout",
     "output_type": "stream",
     "text": [
      "Результат:\n",
      "es\n"
     ]
    }
   ],
   "source": [
    "word = \"test\"\n",
    "length=len(word)\n",
    "if length % 2 == 0:\n",
    "  length = length // 2\n",
    "  print(\"Результат:\")\n",
    "  print(word[length-1:length+1])\n",
    "else:\n",
    "  length = length // 2\n",
    "  print(\"Результат:\")\n",
    "  print(word[length])"
   ]
  },
  {
   "cell_type": "markdown",
   "metadata": {
    "id": "lRMRLrLrxjqB"
   },
   "source": [
    "# **Задание 2**\n",
    "Напишите программу, которая последовательно запрашивает у пользователя числа (по одному за раз) и после первого нуля выводит сумму всех ранее введенных чисел.\n",
    "\n",
    "Примеры работы программы:\n",
    "\n",
    "    Введите число:\n",
    "    1\n",
    "\n",
    "    Введите число:\n",
    "    4\n",
    "\n",
    "    Введите число:\n",
    "    6\n",
    "\n",
    "    Введите число:\n",
    "    0\n",
    "    Результат:\n",
    "    11\n",
    "\n",
    "    Введите число:\n",
    "    0\n",
    "    Результат:\n",
    "    0"
   ]
  },
  {
   "cell_type": "code",
   "execution_count": 2,
   "metadata": {
    "colab": {
     "base_uri": "https://localhost:8080/"
    },
    "id": "ac5UC635xrQx",
    "outputId": "b96fd257-706b-46b7-9fbb-f3d895b39f5e"
   },
   "outputs": [
    {
     "name": "stdin",
     "output_type": "stream",
     "text": [
      "Введите число:  1\n",
      "Введите число:  2\n",
      "Введите число:  3\n",
      "Введите число:  0\n"
     ]
    },
    {
     "name": "stdout",
     "output_type": "stream",
     "text": [
      "Результат: 6\n"
     ]
    }
   ],
   "source": [
    "sum = 0\n",
    "a = 1\n",
    "while a != 0:\n",
    "  a = 0\n",
    "  a = eval(input(\"Введите число: \"))\n",
    "  sum += a\n",
    "print(\"Результат:\", sum)"
   ]
  },
  {
   "cell_type": "markdown",
   "metadata": {
    "id": "3INxz_K7yV7v"
   },
   "source": [
    "# **Задание 3**\n",
    "Мы делаем  dating-сервиса, и у нас есть список парней и девушек.\n",
    "Выдвигаем гипотезу: лучшие рекомендации мы получим, если просто отсортируем имена по алфавиту и познакомим людей с одинаковыми индексами после сортировки! Но мы не будем никого знакомить, если кто-то может остаться без пары:\n",
    "\n",
    "Примеры работы программы:\n",
    "    1.\n",
    "    boys = [‘Peter’, ‘Alex’, ‘John’, ‘Arthur’, ‘Richard’]\n",
    "    girls = [‘Kate’, ‘Liza’, ‘Kira’, ‘Emma’, ‘Trisha’]\n",
    "\n",
    "    Результат:\n",
    "    Идеальные пары:\n",
    "    Alex и Emma\n",
    "    Arthur и Kate\n",
    "    John и Kira\n",
    "    Peter и Liza\n",
    "    Richard и Trisha\n",
    "\n",
    "    2.\n",
    "    boys = [‘Peter’, ‘Alex’, ‘John’, ‘Arthur’, ‘Richard’, ‘Michael’]\n",
    "    girls = [‘Kate’, ‘Liza’, ‘Kira’, ‘Emma’, ‘Trisha’]\n",
    "\n",
    "    Результат:\n",
    "    Внимание, кто-то может остаться без пары!"
   ]
  },
  {
   "cell_type": "code",
   "execution_count": 3,
   "metadata": {
    "colab": {
     "base_uri": "https://localhost:8080/"
    },
    "id": "KDrrnpgTyh7n",
    "outputId": "0646d0ff-78aa-4ea7-bfa9-2afdcc098a75"
   },
   "outputs": [
    {
     "name": "stdout",
     "output_type": "stream",
     "text": [
      "Результат:\n",
      "Идеальные пары:\n",
      "Alex и Emma\n",
      "Arthur и Kate\n",
      "John и Kira\n",
      "Peter и Liza\n",
      "Richard и Trisha\n"
     ]
    }
   ],
   "source": [
    "boys = [\"Peter\", \"Alex\", \"John\", \"Arthur\", \"Richard\"] #, \"Michael\"\n",
    "girls = [\"Kate\", \"Liza\", \"Kira\", \"Emma\", \"Trisha\"]\n",
    "\n",
    "boys.sort()\n",
    "girls.sort()\n",
    "\n",
    "boysCount = len (boys)\n",
    "girlsCount = len(girls)\n",
    "\n",
    "if boysCount == girlsCount:\n",
    "  print(\"Результат:\")\n",
    "  print(\"Идеальные пары:\")\n",
    "  for i in range(girlsCount):\n",
    "    print(boys[i], \"и\", girls[i])\n",
    "else:\n",
    "  print(\"Внимание, кто-то может остаться без пары!\")"
   ]
  },
  {
   "cell_type": "markdown",
   "metadata": {
    "id": "hEGUumTD04Ez"
   },
   "source": [
    "# **Задание 4**\n",
    "У нас есть список, содержащий информацию о среднедневной температуре в Фаренгейтах за произвольный период по странам (структура данных в примере). Необходимо написать код, который рассчитает среднюю температуру за период в Цельсиях(!) для каждой страны.\n",
    "\n",
    "Пример работы программы:\n",
    "\n",
    "    countries_temperature = [\n",
    "    [‘Thailand’, [75.2, 77, 78.8, 73.4, 68, 75.2, 77]],\n",
    "    [‘Germany’, [57.2, 55.4, 59, 59, 53.6]],\n",
    "    [‘Russia’, [35.6, 37.4, 39.2, 41, 42.8, 39.2, 35.6]],\n",
    "    [‘Poland’, [50, 50, 53.6, 57.2, 55.4, 55.4]]\n",
    "    ]\n",
    "    Результат:\n",
    "\n",
    "    Средняя температура в странах:\n",
    "    Thailand - 23.9 С\n",
    "    Germany - 13.8 С\n",
    "    Russia - 3.7 С\n",
    "    Poland - 12.0 С"
   ]
  },
  {
   "cell_type": "code",
   "execution_count": 4,
   "metadata": {
    "colab": {
     "base_uri": "https://localhost:8080/"
    },
    "id": "-qYdeEQn09Uw",
    "outputId": "fcbdf193-b50c-482b-fcd5-03d41de6bddd"
   },
   "outputs": [
    {
     "name": "stdout",
     "output_type": "stream",
     "text": [
      "Результат:\n",
      "Средняя температура в странах:\n",
      "Thailand - 23.9 C\n",
      "Germany - 13.8 C\n",
      "Russia - 3.7 C\n",
      "Poland - 12.0 C\n"
     ]
    }
   ],
   "source": [
    "countries_temperature = [\n",
    "['Thailand', [75.2, 77, 78.8, 73.4, 68, 75.2, 77]],\n",
    "['Germany', [57.2, 55.4, 59, 59, 53.6]],\n",
    "['Russia', [35.6, 37.4, 39.2, 41, 42.8, 39.2, 35.6]],\n",
    "['Poland', [50, 50, 53.6, 57.2, 55.4, 55.4]]\n",
    "]\n",
    "\n",
    "i = 0\n",
    "j = 0\n",
    "sum = 0\n",
    "\n",
    "print(\"Результат:\")\n",
    "print(\"Средняя температура в странах:\")\n",
    "\n",
    "for i in range(len(countries_temperature)):\n",
    "  for j in range(len((countries_temperature[i][1]))):\n",
    "    sum += countries_temperature[i][1][j]\n",
    "    j += 1\n",
    "  temperatureCenter = round(((sum / len(countries_temperature[i][1]) - 32) / 1.8), 1)\n",
    "  print(countries_temperature[i][0], \"-\", temperatureCenter, \"C\")\n",
    "  sum = 0\n",
    "  j = 0"
   ]
  },
  {
   "cell_type": "markdown",
   "metadata": {},
   "source": [
    "# **Задание 5**\n",
    "Дана переменная, в которой хранится словарь, содержащий гео-метки для каждого пользователя (пример структуры данных приведен ниже). Вам необходимо написать программу, которая выведет на экран множество уникальных гео-меток всех пользователей.\n",
    "\n",
    "Пример работы программы:\n",
    "\n",
    "    ids = {‘user1’: [213, 213, 213, 15, 213],\n",
    "    ‘user2’: [54, 54, 119, 119, 119],\n",
    "    ‘user3’: [213, 98, 98, 35]}\n",
    "    Результат: {98, 35, 15, 213, 54, 119}"
   ]
  },
  {
   "cell_type": "code",
   "execution_count": 5,
   "metadata": {},
   "outputs": [
    {
     "name": "stdout",
     "output_type": "stream",
     "text": [
      "{98, 35, 213, 54, 119, 15}\n"
     ]
    }
   ],
   "source": [
    "ids = {'user1': [213, 213, 213, 15, 213], \n",
    "       'user2': [54, 54, 119, 119, 119], \n",
    "       'user3': [213, 98, 98, 35]}\n",
    "\n",
    "geo_set = set()\n",
    "\n",
    "for geo in ids.values():\n",
    "  geo_set = geo_set.union(set(geo))\n",
    "print(geo_set)"
   ]
  },
  {
   "cell_type": "markdown",
   "metadata": {},
   "source": [
    "# **Задание 6**\n",
    "Дана переменная, в которой хранится список поисковых запросов пользователя (пример структуры данных приведен ниже). Вам необходимо написать программу, которая выведет на экран распределение количества слов в запросах в требуемом виде.\n",
    "\n",
    "Пример работы программы:\n",
    "\n",
    "    queries = [\n",
    "    ‘смотреть сериалы онлайн’,\n",
    "    ‘новости спорта’,\n",
    "    ‘афиша кино’,\n",
    "    ‘курс доллара’,\n",
    "    ‘сериалы этим летом’,\n",
    "    ‘курс по питону’,\n",
    "    ‘сериалы про спорт’,\n",
    "    ]\n",
    "    Результат:\n",
    "\n",
    "    Поисковых запросов, содержащих 2 слов(а): 42.86%\n",
    "    Поисковых запросов, содержащих 3 слов(а): 57.14%"
   ]
  },
  {
   "cell_type": "code",
   "execution_count": 6,
   "metadata": {},
   "outputs": [
    {
     "name": "stdout",
     "output_type": "stream",
     "text": [
      "Поисковых запросов, содержищих 2 слов: 42.86%\n",
      "Поисковых запросов, содержищих 3 слов: 57.14%\n"
     ]
    }
   ],
   "source": [
    "queries = [\n",
    "    'смотреть сериалы онлайн',\n",
    "    'новости спорта',\n",
    "    'афиша кино',\n",
    "    'курс доллара',\n",
    "    'сериалы этим летом',\n",
    "    'курс по питону',\n",
    "    'сериалы про спорт',\n",
    "    ]\n",
    "\n",
    "count = [] \n",
    "max = 0\n",
    "for i in range(len(queries)): #создание массива, содержащего количество пробелов в каждой строчке queries [2, 1, 1, 1, 2, 2, 2]\n",
    "    count.append(queries[i].count(' '))\n",
    "    if count[i] > max: #нахождение максимального количества пробелов с строчке\n",
    "        max = count[i]\n",
    "a = []\n",
    "for k in range(max+1): #подсчет сколько раз в запросе было 0, 1, 2... пробелов [0, 3, 4]\n",
    "    a.append(count.count(k))\n",
    "   \n",
    "for g in range(len(a)):\n",
    "    if a[g] > 0:\n",
    "        percent = round((a[g] / len(queries) * 100), 2)\n",
    "        print('Поисковых запросов, содержищих ', g+1, ' слов: ', percent, '%', sep = '')\n"
   ]
  },
  {
   "cell_type": "markdown",
   "metadata": {},
   "source": [
    "# **Задание 7**\n",
    "Дана переменная, в которой хранится информация о затратах и доходе рекламных кампаний по различным источникам. Необходимо дополнить исходную структуру показателем ROI, который рассчитаем по формуле: (revenue / cost - 1) * 100\n",
    "\n",
    "Пример работы программы:\n",
    "\n",
    "    results = {\n",
    "    ‘vk’: {‘revenue’: 103, ‘cost’: 98},\n",
    "    ‘yandex’: {‘revenue’: 179, ‘cost’: 153},\n",
    "    ‘facebook’: {‘revenue’: 103, ‘cost’: 110},\n",
    "    ‘adwords’: {‘revenue’: 35, ‘cost’: 34},\n",
    "    ‘twitter’: {‘revenue’: 11, ‘cost’: 24},\n",
    "    }\n",
    "    Результат:\n",
    "\n",
    "    {‘adwords’: {‘revenue’: 35, ‘cost’: 34, ‘ROI’: 2.94},\n",
    "    ‘facebook’: {‘revenue’: 103, ‘cost’: 110, ‘ROI’: -6.36},\n",
    "    ‘twitter’: {‘revenue’: 11, ‘cost’: 24, ‘ROI’: -54.17},\n",
    "    ‘vk’: {‘revenue’: 103, ‘cost’: 98, ‘ROI’: 5.1},\n",
    "    ‘yandex’: {‘revenue’: 179, ‘cost’: 153, ‘ROI’: 16.99}}"
   ]
  },
  {
   "cell_type": "code",
   "execution_count": 7,
   "metadata": {},
   "outputs": [
    {
     "name": "stdout",
     "output_type": "stream",
     "text": [
      "vk: {'revenue': 103, 'cost': 98, 'ROI': 5.1}\n",
      "yandex: {'revenue': 179, 'cost': 153, 'ROI': 16.99}\n",
      "facebook: {'revenue': 103, 'cost': 110, 'ROI': -6.36}\n",
      "adwords: {'revenue': 35, 'cost': 34, 'ROI': 2.94}\n",
      "twitter: {'revenue': 11, 'cost': 24, 'ROI': -54.17}\n"
     ]
    }
   ],
   "source": [
    "results = {\n",
    "    'vk': {'revenue': 103, 'cost': 98},\n",
    "    'yandex': {'revenue': 179, 'cost': 153},\n",
    "    'facebook': {'revenue': 103, 'cost': 110},\n",
    "    'adwords': {'revenue': 35, 'cost': 34},\n",
    "    'twitter': {'revenue': 11, 'cost': 24},\n",
    "    }\n",
    "\n",
    "results['vk']['ROI'] = round((results['vk']['revenue'] / results['vk']['cost'] - 1) * 100, 2)\n",
    "results['yandex']['ROI'] = round((results['yandex']['revenue'] / results['yandex']['cost'] - 1) * 100, 2)\n",
    "results['facebook']['ROI'] = round((results['facebook']['revenue'] / results['facebook']['cost'] - 1) * 100, 2)\n",
    "results['adwords']['ROI'] = round((results['adwords']['revenue'] / results['adwords']['cost'] - 1) * 100, 2)\n",
    "results['twitter']['ROI'] = round((results['twitter']['revenue'] / results['twitter']['cost'] - 1) * 100, 2)\n",
    "\n",
    "print('vk:', results['vk'])\n",
    "print('yandex:',results['yandex'])\n",
    "print('facebook:',results['facebook'])\n",
    "print('adwords:',results['adwords'])\n",
    "print('twitter:',results['twitter'])"
   ]
  },
  {
   "cell_type": "markdown",
   "metadata": {},
   "source": [
    "# **Задание 8**\n",
    "Дана переменная, в которой хранится статистика рекламных каналов по объемам продаж (пример структуры данных приведен ниже). Напишите программу, которая возвращает название канала с максимальным объемом продаж.\n",
    "\n",
    "Пример работы программы:\n",
    "\n",
    "    stats = {‘facebook’: 55, ‘yandex’: 115, ‘vk’: 120, ‘google’: 99, ‘email’: 42, ‘ok’: 98}\n",
    "\n",
    "    Результат: Максимальный объем продаж на рекламном канале: vk"
   ]
  },
  {
   "cell_type": "code",
   "execution_count": 8,
   "metadata": {},
   "outputs": [
    {
     "ename": "TypeError",
     "evalue": "'int' object is not callable",
     "output_type": "error",
     "traceback": [
      "\u001b[1;31m---------------------------------------------------------------------------\u001b[0m",
      "\u001b[1;31mTypeError\u001b[0m                                 Traceback (most recent call last)",
      "Input \u001b[1;32mIn [8]\u001b[0m, in \u001b[0;36m<cell line: 3>\u001b[1;34m()\u001b[0m\n\u001b[0;32m      1\u001b[0m stats \u001b[38;5;241m=\u001b[39m {\u001b[38;5;124m'\u001b[39m\u001b[38;5;124mfacebook\u001b[39m\u001b[38;5;124m'\u001b[39m: \u001b[38;5;241m55\u001b[39m, \u001b[38;5;124m'\u001b[39m\u001b[38;5;124myandex\u001b[39m\u001b[38;5;124m'\u001b[39m: \u001b[38;5;241m115\u001b[39m, \u001b[38;5;124m'\u001b[39m\u001b[38;5;124mvk\u001b[39m\u001b[38;5;124m'\u001b[39m: \u001b[38;5;241m120\u001b[39m, \u001b[38;5;124m'\u001b[39m\u001b[38;5;124mgoogle\u001b[39m\u001b[38;5;124m'\u001b[39m: \u001b[38;5;241m99\u001b[39m, \u001b[38;5;124m'\u001b[39m\u001b[38;5;124memail\u001b[39m\u001b[38;5;124m'\u001b[39m: \u001b[38;5;241m42\u001b[39m, \u001b[38;5;124m'\u001b[39m\u001b[38;5;124mok\u001b[39m\u001b[38;5;124m'\u001b[39m: \u001b[38;5;241m98\u001b[39m}\n\u001b[0;32m      3\u001b[0m \u001b[38;5;28;01mfor\u001b[39;00m key \u001b[38;5;129;01min\u001b[39;00m stats:\n\u001b[1;32m----> 4\u001b[0m     \u001b[38;5;28;01mif\u001b[39;00m stats\u001b[38;5;241m.\u001b[39mget(key) \u001b[38;5;241m==\u001b[39m \u001b[38;5;28;43mmax\u001b[39;49m\u001b[43m(\u001b[49m\u001b[43mstats\u001b[49m\u001b[38;5;241;43m.\u001b[39;49m\u001b[43mvalues\u001b[49m\u001b[43m(\u001b[49m\u001b[43m)\u001b[49m\u001b[43m)\u001b[49m:\n\u001b[0;32m      5\u001b[0m         \u001b[38;5;28mprint\u001b[39m(\u001b[38;5;124m\"\u001b[39m\u001b[38;5;124mРезультат:\u001b[39m\u001b[38;5;124m\"\u001b[39m) \n\u001b[0;32m      6\u001b[0m         \u001b[38;5;28mprint\u001b[39m(\u001b[38;5;124m\"\u001b[39m\u001b[38;5;124mМаксимальный объем продаж на рекламном канале:\u001b[39m\u001b[38;5;124m\"\u001b[39m, key)\n",
      "\u001b[1;31mTypeError\u001b[0m: 'int' object is not callable"
     ]
    }
   ],
   "source": [
    "stats = {'facebook': 55, 'yandex': 115, 'vk': 120, 'google': 99, 'email': 42, 'ok': 98}\n",
    "\n",
    "for key in stats:\n",
    "    if stats.get(key) == max(stats.values()):\n",
    "        print(\"Результат:\") \n",
    "        print(\"Максимальный объем продаж на рекламном канале:\", key)\n",
    "        break"
   ]
  }
 ],
 "metadata": {
  "colab": {
   "collapsed_sections": [],
   "provenance": []
  },
  "kernelspec": {
   "display_name": "Python (TensorFlowEnv)",
   "language": "python",
   "name": "tensorflowenv"
  },
  "language_info": {
   "codemirror_mode": {
    "name": "ipython",
    "version": 3
   },
   "file_extension": ".py",
   "mimetype": "text/x-python",
   "name": "python",
   "nbconvert_exporter": "python",
   "pygments_lexer": "ipython3",
   "version": "3.9.13"
  }
 },
 "nbformat": 4,
 "nbformat_minor": 4
}
